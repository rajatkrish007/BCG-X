{
 "cells": [
  {
   "cell_type": "markdown",
   "metadata": {},
   "source": [
    "<h2>Exploratory Data Analysis</h2>\n"
   ]
  },
  {
   "cell_type": "markdown",
   "metadata": {},
   "source": [
    "<h5>Importing required libraries</h5>"
   ]
  },
  {
   "cell_type": "code",
   "execution_count": 1,
   "metadata": {},
   "outputs": [],
   "source": [
    "import pandas as pd\n",
    "import seaborn as sns\n",
    "import matplotlib.pyplot as plt"
   ]
  },
  {
   "cell_type": "markdown",
   "metadata": {},
   "source": [
    "<h5>Taking Gist of both the datasets (uploading and exploring)</h5>"
   ]
  },
  {
   "cell_type": "markdown",
   "metadata": {},
   "source": [
    "Reading the CSV files and making reading for exploratory analysis"
   ]
  },
  {
   "cell_type": "code",
   "execution_count": 4,
   "metadata": {},
   "outputs": [],
   "source": [
    "client_ds = pd.read_csv('client_data (1).csv')\n",
    "price_ds = pd.read_csv('price_data (1).csv')"
   ]
  },
  {
   "cell_type": "markdown",
   "metadata": {},
   "source": [
    "<h5>Overview of Datasets</h5>"
   ]
  },
  {
   "cell_type": "code",
   "execution_count": 7,
   "metadata": {},
   "outputs": [
    {
     "name": "stdout",
     "output_type": "stream",
     "text": [
      "                                 id                     channel_sales  \\\n",
      "0  24011ae4ebbe3035111d65fa7c15bc57  foosdfpfkusacimwkcsosbicdxkicaua   \n",
      "1  d29c2c54acc38ff3c0614d0a653813dd                           MISSING   \n",
      "2  764c75f661154dac3a6c254cd082ea7d  foosdfpfkusacimwkcsosbicdxkicaua   \n",
      "\n",
      "   cons_12m  cons_gas_12m  cons_last_month  date_activ    date_end  \\\n",
      "0         0         54946                0  2013-06-15  2016-06-15   \n",
      "1      4660             0                0  2009-08-21  2016-08-30   \n",
      "2       544             0                0  2010-04-16  2016-04-16   \n",
      "\n",
      "  date_modif_prod date_renewal  forecast_cons_12m  ...  has_gas  imp_cons  \\\n",
      "0      2015-11-01   2015-06-23               0.00  ...        t       0.0   \n",
      "1      2009-08-21   2015-08-31             189.95  ...        f       0.0   \n",
      "2      2010-04-16   2015-04-17              47.96  ...        f       0.0   \n",
      "\n",
      "   margin_gross_pow_ele  margin_net_pow_ele  nb_prod_act  net_margin  \\\n",
      "0                 25.44               25.44            2      678.99   \n",
      "1                 16.38               16.38            1       18.89   \n",
      "2                 28.60               28.60            1        6.60   \n",
      "\n",
      "  num_years_antig                         origin_up  pow_max  churn  \n",
      "0               3  lxidpiddsbxsbosboudacockeimpuepw   43.648      1  \n",
      "1               6  kamkkxfxxuwbdslkwifmmcsiusiuosws   13.800      0  \n",
      "2               6  kamkkxfxxuwbdslkwifmmcsiusiuosws   13.856      0  \n",
      "\n",
      "[3 rows x 26 columns]\n"
     ]
    }
   ],
   "source": [
    "client = client_ds.head(3)\n",
    "print(data_type1)"
   ]
  },
  {
   "cell_type": "markdown",
   "metadata": {},
   "source": [
    "<h5>Checking column values by using info()</h5>"
   ]
  },
  {
   "cell_type": "code",
   "execution_count": 10,
   "metadata": {},
   "outputs": [
    {
     "name": "stdout",
     "output_type": "stream",
     "text": [
      "<class 'pandas.core.frame.DataFrame'>\n",
      "RangeIndex: 193002 entries, 0 to 193001\n",
      "Data columns (total 8 columns):\n",
      " #   Column              Non-Null Count   Dtype  \n",
      "---  ------              --------------   -----  \n",
      " 0   id                  193002 non-null  object \n",
      " 1   price_date          193002 non-null  object \n",
      " 2   price_off_peak_var  193002 non-null  float64\n",
      " 3   price_peak_var      193002 non-null  float64\n",
      " 4   price_mid_peak_var  193002 non-null  float64\n",
      " 5   price_off_peak_fix  193002 non-null  float64\n",
      " 6   price_peak_fix      193002 non-null  float64\n",
      " 7   price_mid_peak_fix  193002 non-null  float64\n",
      "dtypes: float64(6), object(2)\n",
      "memory usage: 11.8+ MB\n"
     ]
    }
   ],
   "source": [
    "col_val_client = client_ds.info()\n",
    "col_val_price = price_ds.info()"
   ]
  },
  {
   "cell_type": "markdown",
   "metadata": {},
   "source": [
    "<h5>Coming to Statistics using describe()</h5>"
   ]
  },
  {
   "cell_type": "code",
   "execution_count": 16,
   "metadata": {},
   "outputs": [
    {
     "name": "stdout",
     "output_type": "stream",
     "text": [
      "                                      id  price_date  price_off_peak_var  \\\n",
      "0       038af19179925da21a25619c5a24b745  2015-01-01            0.151367   \n",
      "1       038af19179925da21a25619c5a24b745  2015-02-01            0.151367   \n",
      "2       038af19179925da21a25619c5a24b745  2015-03-01            0.151367   \n",
      "3       038af19179925da21a25619c5a24b745  2015-04-01            0.149626   \n",
      "4       038af19179925da21a25619c5a24b745  2015-05-01            0.149626   \n",
      "...                                  ...         ...                 ...   \n",
      "192997  16f51cdc2baa19af0b940ee1b3dd17d5  2015-08-01            0.119916   \n",
      "192998  16f51cdc2baa19af0b940ee1b3dd17d5  2015-09-01            0.119916   \n",
      "192999  16f51cdc2baa19af0b940ee1b3dd17d5  2015-10-01            0.119916   \n",
      "193000  16f51cdc2baa19af0b940ee1b3dd17d5  2015-11-01            0.119916   \n",
      "193001  16f51cdc2baa19af0b940ee1b3dd17d5  2015-12-01            0.119916   \n",
      "\n",
      "        price_peak_var  price_mid_peak_var  price_off_peak_fix  \\\n",
      "0             0.000000            0.000000           44.266931   \n",
      "1             0.000000            0.000000           44.266931   \n",
      "2             0.000000            0.000000           44.266931   \n",
      "3             0.000000            0.000000           44.266931   \n",
      "4             0.000000            0.000000           44.266931   \n",
      "...                ...                 ...                 ...   \n",
      "192997        0.102232            0.076257           40.728885   \n",
      "192998        0.102232            0.076257           40.728885   \n",
      "192999        0.102232            0.076257           40.728885   \n",
      "193000        0.102232            0.076257           40.728885   \n",
      "193001        0.102232            0.076257           40.728885   \n",
      "\n",
      "        price_peak_fix  price_mid_peak_fix  \n",
      "0              0.00000            0.000000  \n",
      "1              0.00000            0.000000  \n",
      "2              0.00000            0.000000  \n",
      "3              0.00000            0.000000  \n",
      "4              0.00000            0.000000  \n",
      "...                ...                 ...  \n",
      "192997        24.43733           16.291555  \n",
      "192998        24.43733           16.291555  \n",
      "192999        24.43733           16.291555  \n",
      "193000        24.43733           16.291555  \n",
      "193001        24.43733           16.291555  \n",
      "\n",
      "[193002 rows x 8 columns]\n"
     ]
    }
   ],
   "source": [
    "client_stats = client_ds.describe()\n",
    "print(client_ds)\n",
    "\n",
    "price_stats = price_ds.describe()\n",
    "print(price_ds)"
   ]
  },
  {
   "cell_type": "markdown",
   "metadata": {},
   "source": [
    "<h3>Data Visualization</h3>"
   ]
  },
  {
   "cell_type": "code",
   "execution_count": 28,
   "metadata": {},
   "outputs": [],
   "source": [
    "def plot_stacked_bars(dataframe, title_, size_=(18, 10), rot_=0, legend_=\"upper right\"):\n",
    "    \"\"\"\n",
    "    Plot stacked bars with annotations\n",
    "    \"\"\"\n",
    "    ax = dataframe.plot(\n",
    "        kind=\"bar\",\n",
    "        stacked=True,\n",
    "        figsize=size_,\n",
    "        rot=rot_,\n",
    "        title=title_\n",
    "    )\n",
    "\n",
    "    # Annotate bars\n",
    "    annotate_stacked_bars(ax, textsize=14)\n",
    "    # Rename legend\n",
    "    plt.legend([\"Retention\", \"Churn\"], loc=legend_)\n",
    "    # Labels\n",
    "    plt.ylabel(\"Company base (%)\")\n",
    "    plt.show()\n",
    "\n",
    "def annotate_stacked_bars(ax, pad=0.99, colour=\"white\", textsize=13):\n",
    "    \"\"\"\n",
    "    Add value annotations to the bars\n",
    "    \"\"\"\n",
    "\n",
    "    # Iterate over the plotted rectanges/bars\n",
    "    for p in ax.patches:\n",
    "        \n",
    "        # Calculate annotation\n",
    "        value = str(round(p.get_height(),1))\n",
    "        # If value is 0 do not annotate\n",
    "        if value == '0.0':\n",
    "            continue\n",
    "        ax.annotate(\n",
    "            value,\n",
    "            ((p.get_x()+ p.get_width()/2)*pad-0.05, (p.get_y()+p.get_height()/2)*pad),\n",
    "            color=colour,\n",
    "            size=textsize\n",
    "        )\n",
    "\n",
    "def plot_distribution(dataframe, column, ax, bins_=50):\n",
    "    \"\"\"\n",
    "    Plot variable distirbution in a stacked histogram of churned or retained company\n",
    "    \"\"\"\n",
    "    # Create a temporal dataframe with the data to be plot\n",
    "    temp = pd.DataFrame({\"Retention\": dataframe[dataframe[\"churn\"]==0][column],\n",
    "    \"Churn\":dataframe[dataframe[\"churn\"]==1][column]})\n",
    "    # Plot the histogram\n",
    "    temp[[\"Retention\",\"Churn\"]].plot(kind='hist', bins=bins_, ax=ax, stacked=True)\n",
    "    # X-axis label\n",
    "    ax.set_xlabel(column)\n",
    "    # Change the x-axis to plain style\n",
    "    ax.ticklabel_format(style='plain', axis='x')"
   ]
  },
  {
   "cell_type": "code",
   "execution_count": 30,
   "metadata": {},
   "outputs": [
    {
     "data": {
      "image/png": "[encoded data removed]",
      "text/plain": [
       "<Figure size 500x500 with 1 Axes>"
      ]
     },
     "metadata": {},
     "output_type": "display_data"
    }
   ],
   "source": [
    "churn = client_ds[['id', 'churn']]\n",
    "churn.columns = ['Companies', 'churn']\n",
    "churn_total = churn.groupby(churn['churn']).count()\n",
    "churn_percentage = churn_total / churn_total.sum() * 100\n",
    "plot_stacked_bars(churn_percentage.transpose(), \"Churning status\", (5, 5), legend_=\"lower right\")"
   ]
  }
 ],
 "metadata": {
  "kernelspec": {
   "display_name": "Python 3",
   "language": "python",
   "name": "python3"
  },
  "language_info": {
   "codemirror_mode": {
    "name": "ipython",
    "version": 3
   },
   "file_extension": ".py",
   "mimetype": "text/x-python",
   "name": "python",
   "nbconvert_exporter": "python",
   "pygments_lexer": "ipython3",
   "version": "3.12.2"
  }
 },
 "nbformat": 4,
 "nbformat_minor": 2
}
